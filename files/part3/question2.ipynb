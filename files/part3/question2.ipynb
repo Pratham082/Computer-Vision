{
 "cells": [
  {
   "cell_type": "code",
   "execution_count": 1,
   "metadata": {},
   "outputs": [],
   "source": [
    "import cv2\n",
    "import numpy as np\n",
    "import os\n"
   ]
  },
  {
   "cell_type": "markdown",
   "metadata": {},
   "source": [
    "part 1"
   ]
  },
  {
   "cell_type": "code",
   "execution_count": 2,
   "metadata": {},
   "outputs": [],
   "source": [
    "img1 = cv2.imread(\"C:/sem 6/cv/assignment3/panaroma_generation/1.jpg\")\n",
    "img2 = cv2.imread(\"C:/sem 6/cv/assignment3/panaroma_generation/2.jpg\")"
   ]
  },
  {
   "cell_type": "code",
   "execution_count": 3,
   "metadata": {},
   "outputs": [],
   "source": [
    "sift = cv2.SIFT_create()\n"
   ]
  },
  {
   "cell_type": "code",
   "execution_count": 4,
   "metadata": {},
   "outputs": [],
   "source": [
    "kp1, des1 = sift.detectAndCompute(img1, None)\n",
    "kp2, des2 = sift.detectAndCompute(img2, None)\n"
   ]
  },
  {
   "cell_type": "code",
   "execution_count": 5,
   "metadata": {},
   "outputs": [
    {
     "data": {
      "text/plain": [
       "array([[[196, 193, 185],\n",
       "        [206, 203, 195],\n",
       "        [233, 230, 222],\n",
       "        ...,\n",
       "        [219, 217, 209],\n",
       "        [221, 219, 211],\n",
       "        [220, 218, 210]],\n",
       "\n",
       "       [[207, 204, 196],\n",
       "        [195, 192, 184],\n",
       "        [228, 225, 217],\n",
       "        ...,\n",
       "        [219, 217, 209],\n",
       "        [218, 216, 208],\n",
       "        [218, 216, 208]],\n",
       "\n",
       "       [[206, 203, 195],\n",
       "        [189, 202, 178],\n",
       "        [133, 244, 127],\n",
       "        ...,\n",
       "        [218, 216, 208],\n",
       "        [217, 215, 207],\n",
       "        [218, 216, 208]],\n",
       "\n",
       "       ...,\n",
       "\n",
       "       [[ 50,  95,  76],\n",
       "        [ 41,  86,  67],\n",
       "        [ 39,  82,  67],\n",
       "        ...,\n",
       "        [ 44,  84,  82],\n",
       "        [ 74, 115, 110],\n",
       "        [ 51,  92,  87]],\n",
       "\n",
       "       [[ 41,  83,  66],\n",
       "        [ 41,  83,  66],\n",
       "        [ 14,  55,  40],\n",
       "        ...,\n",
       "        [ 44,  84,  82],\n",
       "        [ 69, 109, 107],\n",
       "        [ 46,  86,  84]],\n",
       "\n",
       "       [[ 25,  67,  50],\n",
       "        [  6,  48,  31],\n",
       "        [ 50,  90,  78],\n",
       "        ...,\n",
       "        [ 47,  87,  85],\n",
       "        [ 48,  88,  86],\n",
       "        [ 52,  92,  90]]], dtype=uint8)"
      ]
     },
     "execution_count": 5,
     "metadata": {},
     "output_type": "execute_result"
    }
   ],
   "source": [
    "cv2.drawKeypoints(img1, kp1, img1, color=(0,255,0), flags=cv2.DRAW_MATCHES_FLAGS_DRAW_RICH_KEYPOINTS)\n",
    "cv2.drawKeypoints(img2, kp2, img2, color=(0,255,0), flags=cv2.DRAW_MATCHES_FLAGS_DRAW_RICH_KEYPOINTS)\n"
   ]
  },
  {
   "cell_type": "code",
   "execution_count": 6,
   "metadata": {},
   "outputs": [],
   "source": [
    "cv2.imshow(\"Image 1 with Keypoints\", img1)\n",
    "cv2.imshow(\"Image 2 with Keypoints\", img2)\n",
    "cv2.waitKey(0)\n",
    "cv2.destroyAllWindows()\n"
   ]
  },
  {
   "cell_type": "markdown",
   "metadata": {},
   "source": [
    "part 2"
   ]
  },
  {
   "cell_type": "code",
   "execution_count": 7,
   "metadata": {},
   "outputs": [],
   "source": [
    "bf = cv2.BFMatcher(cv2.NORM_L2, crossCheck=False)\n",
    "matches_bf = bf.knnMatch(des1, des2, k=2)\n"
   ]
  },
  {
   "cell_type": "code",
   "execution_count": 8,
   "metadata": {},
   "outputs": [],
   "source": [
    "flann = cv2.FlannBasedMatcher(dict(algorithm=1, trees=5), dict(checks=50))\n",
    "matches_flann = flann.knnMatch(des1, des2, k=2)\n"
   ]
  },
  {
   "cell_type": "code",
   "execution_count": 9,
   "metadata": {},
   "outputs": [],
   "source": [
    "good_matches_bf = []\n",
    "good_matches_flann = []\n",
    "img_matches_bf = cv2.drawMatchesKnn(img1, kp1, img2, kp2, matches_bf, None, flags=2)\n",
    "img_matches_flann = cv2.drawMatchesKnn(img1, kp1, img2, kp2, matches_flann, None, flags=2)\n",
    "\n",
    "for m, n in matches_bf:\n",
    "    if m.distance < 0.7*n.distance:\n",
    "        good_matches_bf.append(m)\n",
    "\n",
    "for m, n in matches_flann:\n",
    "    if m.distance < 0.7*n.distance:\n",
    "        good_matches_flann.append(m)\n",
    "\n",
    "img_matches_bf = cv2.drawMatches(img1, kp1, img2, kp2, good_matches_bf, img_matches_bf, flags=2)\n",
    "img_matches_flann = cv2.drawMatches(img1, kp1, img2, kp2, good_matches_flann, img_matches_flann, flags=2)\n",
    "\n",
    "cv2.imshow(\"Matches - Brute-Force\", img_matches_bf)\n",
    "cv2.imshow(\"Matches - FlannBased\", img_matches_flann)\n",
    "cv2.waitKey(0)\n",
    "cv2.destroyAllWindows()\n"
   ]
  },
  {
   "cell_type": "markdown",
   "metadata": {},
   "source": [
    "part 3"
   ]
  },
  {
   "cell_type": "code",
   "execution_count": 10,
   "metadata": {},
   "outputs": [
    {
     "name": "stdout",
     "output_type": "stream",
     "text": [
      "[[-6.39038505e+01  1.88277579e+00  2.30121106e+04]\n",
      " [-1.93576646e+01 -3.90627778e+01  1.19679960e+04]\n",
      " [-6.64474794e-02 -4.94887013e-04  1.00000000e+00]]\n"
     ]
    }
   ],
   "source": [
    "def find_homography(kp1, kp2, des1, des2):\n",
    "\n",
    "  bf = cv2.BFMatcher(cv2.NORM_L2, crossCheck=False)\n",
    "  matches = bf.knnMatch(des1, des2, k=2)\n",
    "  good_matches = []\n",
    "  for m, n in matches:\n",
    "      if m.distance < 0.7*n.distance:\n",
    "          good_matches.append(m)\n",
    "\n",
    "  src_pts = np.float32([kp1[m.queryIdx].pt for m in good_matches]).reshape(-1,1,2)\n",
    "  dst_pts = np.float32([kp2[m.trainIdx].pt for m in good_matches]).reshape(-1,1,2)\n",
    "\n",
    "  M, mask = cv2.findHomography(src_pts, dst_pts, cv2.RANSAC, 5.0)\n",
    "  return M\n",
    "\n",
    "\n",
    "M = find_homography(kp1, kp2, des1, des2)\n",
    "print(M)\n",
    "\n"
   ]
  },
  {
   "cell_type": "markdown",
   "metadata": {},
   "source": [
    "part 4"
   ]
  },
  {
   "cell_type": "code",
   "execution_count": 11,
   "metadata": {},
   "outputs": [],
   "source": [
    "res1 = cv2.warpPerspective(img1, M, (img1.shape[1], img1.shape[0]))\n",
    "res2 = cv2.warpPerspective(img2, M, (img2.shape[1], img2.shape[0]))\n",
    "combined_img = np.concatenate((res1, img2), axis=1)\n",
    "cv2.imshow(\"Warped Images\", combined_img)\n",
    "cv2.waitKey(0)\n",
    "cv2.destroyAllWindows()\n"
   ]
  },
  {
   "cell_type": "markdown",
   "metadata": {},
   "source": [
    "part 5"
   ]
  },
  {
   "cell_type": "code",
   "execution_count": 12,
   "metadata": {},
   "outputs": [],
   "source": [
    "\n",
    "combined_img = np.concatenate((res1, img2), axis=1)\n",
    "cv2.imshow(\"Warped Images without blending\", combined_img)\n",
    "\n",
    "alpha = 0.5  # blending factor\n",
    "blended_image = cv2.addWeighted(res1, alpha, img2, 1 - alpha, 0)\n",
    "cv2.imshow(\"Warped Images with blending\", blended_image)\n",
    "cv2.waitKey(0)\n",
    "cv2.destroyAllWindows()"
   ]
  },
  {
   "cell_type": "markdown",
   "metadata": {},
   "source": [
    "part 6"
   ]
  },
  {
   "cell_type": "code",
   "execution_count": 13,
   "metadata": {},
   "outputs": [],
   "source": [
    "folder_path = \"C:/sem 6/cv/assignment3/panaroma_generation\"\n",
    "\n",
    "image_paths = [os.path.join(folder_path, file) for file in os.listdir(folder_path)]\n",
    "M_list = []\n",
    "images = []\n",
    "matches_list = []\n",
    "blended_images=[]\n",
    "\n",
    "for path in image_paths:\n",
    "    temp = cv2.imread(path)\n",
    "    images.append(temp)\n",
    "\n",
    "bf = cv2.BFMatcher(cv2.NORM_L2, crossCheck=False)\n",
    "\n",
    "for i in range(len(images)-1):\n",
    "    img1 = images[i]\n",
    "    img2 = images[i+1]\n",
    "    kp1, des1 = sift.detectAndCompute(img1, None)\n",
    "    kp2, des2 = sift.detectAndCompute(img2, None)\n",
    "    matches = bf.knnMatch(des1, des2, k=2)\n",
    "    good_matches = []\n",
    "    for m, n in matches:\n",
    "        if m.distance < 0.75 * n.distance:\n",
    "            good_matches.append(m)\n",
    "\n",
    "    src_pts = np.float32([kp1[m.queryIdx].pt for m in good_matches]).reshape(-1, 1, 2)\n",
    "    dst_pts = np.float32([kp2[m.trainIdx].pt for m in good_matches]).reshape(-1, 1, 2)\n",
    "\n",
    "    M, mask = cv2.findHomography(src_pts, dst_pts, cv2.RANSAC, 5.0)\n",
    "    matches_list.append(good_matches)\n",
    "    M_list.append(M)\n",
    "\n",
    "    res = cv2.warpPerspective(img1, M, (img1.shape[1], img1.shape[0]))\n",
    "    res2 = cv2.warpPerspective(img2, M, (img2.shape[1], img2.shape[0]))\n",
    "    alpha = 0.5  # blending factor\n",
    "    blended_image = cv2.addWeighted(res1, alpha, img2, 1 - alpha, 0)\n",
    "    blended_images.append(blended_image)\n",
    "\n",
    "stitcher = cv2.Stitcher_create()\n",
    "    \n",
    "status, stitched_image = stitcher.stitch(images)\n",
    " \n",
    "if status == cv2.Stitcher_OK:\n",
    "\n",
    "    cv2.imshow('Stitched Image', stitched_image)\n",
    "    cv2.waitKey(0)\n",
    "    cv2.destroyAllWindows()\n",
    "else:\n",
    "    print(\"Stitching failed!\")\n",
    "\n",
    "# combined_img = np.concatenate(tuple(blended_images), axis=1)\n",
    "# cv2.imshow(\"Warped Images\", combined_img)\n",
    "# cv2.waitKey(0)\n",
    "# cv2.destroyAllWindows()"
   ]
  },
  {
   "cell_type": "code",
   "execution_count": 64,
   "metadata": {},
   "outputs": [
    {
     "name": "stdout",
     "output_type": "stream",
     "text": [
      "7\n"
     ]
    }
   ],
   "source": [
    "print(len(blended_images))"
   ]
  }
 ],
 "metadata": {
  "kernelspec": {
   "display_name": "Python 3",
   "language": "python",
   "name": "python3"
  },
  "language_info": {
   "codemirror_mode": {
    "name": "ipython",
    "version": 3
   },
   "file_extension": ".py",
   "mimetype": "text/x-python",
   "name": "python",
   "nbconvert_exporter": "python",
   "pygments_lexer": "ipython3",
   "version": "3.11.3"
  }
 },
 "nbformat": 4,
 "nbformat_minor": 2
}
